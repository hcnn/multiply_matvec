{
 "cells": [
  {
   "cell_type": "markdown",
   "metadata": {},
   "source": [
    "### Matrix-Vector Multiplication\n",
    "Let $A \\in \\mathbb{R}^{n \\times m}$,\n",
    "$y \\in \\mathbb{R}^{m \\times 1}$,\n",
    "and $z \\in \\mathbb{R}^{n \\times 1}$ the result of the multiplication\n",
    "\n",
    "$$\n",
    "z = A\\,y\n",
    "$$\n"
   ]
  },
  {
   "cell_type": "markdown",
   "metadata": {},
   "source": [
    "### C Implementation"
   ]
  },
  {
   "cell_type": "code",
   "execution_count": 1,
   "metadata": {
    "ExecuteTime": {
     "end_time": "2018-09-03T16:08:49.708786Z",
     "start_time": "2018-09-03T16:08:49.444296Z"
    }
   },
   "outputs": [
    {
     "name": "stdout",
     "output_type": "stream",
     "text": [
      "\n",
      " z = \n",
      "  30\n",
      "  70\n",
      " 110\n",
      "\n"
     ]
    }
   ],
   "source": [
    "#include <stdio.h>  // printf\n",
    "#include <stddef.h>\n",
    "\n",
    "size_t rowidx(const size_t i, const size_t j, const size_t numcols){\n",
    "    return i*numcols + j;\n",
    "}\n",
    "\n",
    "void multiply_matvec(const double* A, const double* y, double* z, size_t n, size_t m)\n",
    "{\n",
    "    size_t i,j;\n",
    "    double tmp;\n",
    "    for(i=0; i<n; i++){\n",
    "        tmp = 0.0;\n",
    "        for(j=0; j<m; j++){\n",
    "            tmp += A[rowidx(i,j,m)] * y[j];\n",
    "        }\n",
    "        z[i] = tmp;\n",
    "    }\n",
    "}\n",
    "\n",
    "int main()\n",
    "{\n",
    "    size_t i;\n",
    "    size_t n=3, m=4;\n",
    "\n",
    "    double y[] = {1,2,3,4};\n",
    "\n",
    "    double A[] = {\n",
    "        1, 2, 3, 4,\n",
    "        5, 6, 7, 8,\n",
    "        9,10,11,12\n",
    "    };\n",
    "\n",
    "    double z[n];\n",
    "\n",
    "    multiply_matvec(A, y, z, n, m);\n",
    "\n",
    "    printf(\"\\n z = \\n\");\n",
    "    for(i=0; i<n; i++){\n",
    "        printf(\"%4.f\\n\", z[i]);\n",
    "    }\n",
    "    printf(\"\\n\");\n",
    "}\n"
   ]
  }
 ],
 "metadata": {
  "kernelspec": {
   "display_name": "C",
   "language": "c",
   "name": "c"
  },
  "language_info": {
   "file_extension": ".c",
   "mimetype": "text/plain",
   "name": "c"
  },
  "toc": {
   "base_numbering": 1,
   "nav_menu": {},
   "number_sections": true,
   "sideBar": true,
   "skip_h1_title": false,
   "title_cell": "Table of Contents",
   "title_sidebar": "Contents",
   "toc_cell": false,
   "toc_position": {},
   "toc_section_display": true,
   "toc_window_display": false
  },
  "varInspector": {
   "cols": {
    "lenName": 16,
    "lenType": 16,
    "lenVar": 40
   },
   "kernels_config": {
    "python": {
     "delete_cmd_postfix": "",
     "delete_cmd_prefix": "del ",
     "library": "var_list.py",
     "varRefreshCmd": "print(var_dic_list())"
    },
    "r": {
     "delete_cmd_postfix": ") ",
     "delete_cmd_prefix": "rm(",
     "library": "var_list.r",
     "varRefreshCmd": "cat(var_dic_list()) "
    }
   },
   "types_to_exclude": [
    "module",
    "function",
    "builtin_function_or_method",
    "instance",
    "_Feature"
   ],
   "window_display": false
  }
 },
 "nbformat": 4,
 "nbformat_minor": 2
}
